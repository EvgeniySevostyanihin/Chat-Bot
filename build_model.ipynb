{
 "cells": [
  {
   "cell_type": "code",
   "execution_count": 15,
   "metadata": {
    "collapsed": true
   },
   "outputs": [],
   "source": [
    "from preparing import batch2train_data, load_voc\n",
    "import torch\n",
    "from torch import nn\n",
    "from torch.nn.utils.rnn import pack_padded_sequence, pad_packed_sequence\n",
    "import random"
   ]
  },
  {
   "cell_type": "code",
   "execution_count": 16,
   "outputs": [],
   "source": [
    "data, Vocabulary = load_voc()"
   ],
   "metadata": {
    "collapsed": false,
    "pycharm": {
     "name": "#%%\n"
    }
   }
  },
  {
   "cell_type": "markdown",
   "source": [
    "## Подготовка данных, для использования в модели\n"
   ],
   "metadata": {
    "collapsed": false,
    "pycharm": {
     "name": "#%% md\n"
    }
   }
  },
  {
   "cell_type": "code",
   "execution_count": 17,
   "outputs": [],
   "source": [
    "inp, lenghts, target, mask, max_target_len = batch2train_data([random.choice(data) for _ in range(2)])"
   ],
   "metadata": {
    "collapsed": false,
    "pycharm": {
     "name": "#%%\n"
    }
   }
  },
  {
   "cell_type": "code",
   "execution_count": 18,
   "outputs": [
    {
     "data": {
      "text/plain": "torch.Size([24, 2])"
     },
     "execution_count": 18,
     "metadata": {},
     "output_type": "execute_result"
    }
   ],
   "source": [
    "inp.size()"
   ],
   "metadata": {
    "collapsed": false,
    "pycharm": {
     "name": "#%%\n"
    }
   }
  },
  {
   "cell_type": "code",
   "execution_count": 19,
   "outputs": [
    {
     "data": {
      "text/plain": "torch.Size([35, 2])"
     },
     "execution_count": 19,
     "metadata": {},
     "output_type": "execute_result"
    }
   ],
   "source": [
    "target.size()"
   ],
   "metadata": {
    "collapsed": false,
    "pycharm": {
     "name": "#%%\n"
    }
   }
  },
  {
   "cell_type": "code",
   "execution_count": 20,
   "outputs": [
    {
     "data": {
      "text/plain": "35"
     },
     "execution_count": 20,
     "metadata": {},
     "output_type": "execute_result"
    }
   ],
   "source": [
    "max_target_len"
   ],
   "metadata": {
    "collapsed": false,
    "pycharm": {
     "name": "#%%\n"
    }
   }
  },
  {
   "cell_type": "markdown",
   "source": [
    "# Encoder"
   ],
   "metadata": {
    "collapsed": false,
    "pycharm": {
     "name": "#%% md\n"
    }
   }
  },
  {
   "cell_type": "code",
   "execution_count": 21,
   "outputs": [],
   "source": [
    "EMBEDDING_SIZE = 128"
   ],
   "metadata": {
    "collapsed": false,
    "pycharm": {
     "name": "#%%\n"
    }
   }
  },
  {
   "cell_type": "code",
   "execution_count": 8,
   "outputs": [],
   "source": [
    "class Encoder(nn.Module):\n",
    "    def __init__(self, embedding):\n",
    "        super(Encoder, self).__init__()\n",
    "\n",
    "        self.embedding = embedding\n",
    "        self.gru = nn.GRU(EMBEDDING_SIZE, EMBEDDING_SIZE, num_layers=2,\n",
    "                          dropout=0.4, bidirectional=True)\n",
    "\n",
    "    def forward(self, input_seq, length, hidden=None):\n",
    "\n",
    "        embed = embedding(input_seq)\n",
    "        packed = pack_padded_sequence(embed, length)\n",
    "\n",
    "        out, hidden = self.gru(packed, hidden)\n",
    "\n",
    "        "
   ],
   "metadata": {
    "collapsed": false,
    "pycharm": {
     "name": "#%%\n"
    }
   }
  },
  {
   "cell_type": "code",
   "execution_count": 9,
   "outputs": [],
   "source": [
    "embedding = nn.Embedding(Vocabulary.num_words, 128)"
   ],
   "metadata": {
    "collapsed": false,
    "pycharm": {
     "name": "#%%\n"
    }
   }
  },
  {
   "cell_type": "code",
   "execution_count": 10,
   "outputs": [
    {
     "data": {
      "text/plain": "tensor([[ 141,   76],\n        [ 850, 2162],\n        [  31,    4],\n        [  92,    2],\n        [5456,    0],\n        [2735,    0],\n        [2345,    0],\n        [   4,    0],\n        [7795,    0],\n        [   2,    0]])"
     },
     "execution_count": 10,
     "metadata": {},
     "output_type": "execute_result"
    }
   ],
   "source": [
    "inp"
   ],
   "metadata": {
    "collapsed": false,
    "pycharm": {
     "name": "#%%\n"
    }
   }
  },
  {
   "cell_type": "code",
   "execution_count": 11,
   "outputs": [],
   "source": [
    "emb = embedding(inp)"
   ],
   "metadata": {
    "collapsed": false,
    "pycharm": {
     "name": "#%%\n"
    }
   }
  },
  {
   "cell_type": "code",
   "execution_count": 12,
   "outputs": [
    {
     "data": {
      "text/plain": "tensor([[[ 7.6495e-01, -7.9846e-01,  9.7364e-01,  2.0671e-01,  8.4591e-01,\n          -2.3702e-01, -2.5182e-01, -3.5553e-01,  1.3117e+00,  7.4894e-01,\n           4.8421e-01,  1.9481e+00],\n         [-1.6844e+00,  2.8501e-01, -4.8173e-02, -1.2089e+00,  9.3491e-01,\n          -1.5844e+00, -1.1133e-01, -3.5574e-01, -8.2981e-02,  5.8434e-01,\n          -8.7333e-01,  2.7022e-01]],\n\n        [[ 9.8881e-01, -2.1259e+00,  6.6027e-01, -1.4813e+00, -1.5786e-02,\n          -9.7524e-01, -6.3703e-01, -5.7956e-01,  2.1022e+00,  2.0898e+00,\n           6.1655e-01, -1.5544e-01],\n         [-1.2701e+00, -2.5434e-01,  1.3117e+00, -2.1920e+00,  6.8146e-01,\n           1.2522e-01, -4.8375e-01,  2.2123e+00,  6.9924e-01,  7.2910e-01,\n           1.6325e-01,  1.3102e+00]],\n\n        [[ 1.5886e+00, -1.0834e+00, -8.6062e-01,  5.9398e-01, -4.6124e-01,\n          -7.5954e-02, -3.0960e-01,  1.3596e+00, -2.6842e-01, -5.9845e-01,\n          -1.8842e-01,  5.8307e-01],\n         [-9.6691e-01,  1.2917e+00,  4.0011e-01,  7.1057e-01,  3.3717e-01,\n          -4.6210e-01,  4.6384e-01,  4.8635e-01,  1.2850e+00, -6.4871e-01,\n          -1.3894e+00,  1.3575e+00]],\n\n        [[ 1.1755e+00, -1.1615e+00, -6.5154e-01,  3.4145e-01, -1.5473e+00,\n          -1.4753e+00,  9.2307e-01, -1.2671e+00, -2.1616e+00, -1.1243e+00,\n           2.1537e+00, -2.1353e-03],\n         [-1.0332e+00,  3.3215e-01,  6.1788e-01, -1.0768e+00, -3.8587e-01,\n           9.7295e-01,  1.4667e-01, -4.9210e-01, -1.8393e-01, -5.8391e-01,\n           6.6691e-04,  4.3304e-01]],\n\n        [[-4.5822e-01,  1.1877e+00, -9.0763e-01, -5.4889e-01, -1.7221e-01,\n           4.3154e-01,  6.9190e-01, -8.7042e-01,  3.0286e-01,  4.8243e-01,\n           6.9451e-01,  7.3988e-01],\n         [ 6.1975e-01, -1.3250e+00, -9.1961e-01, -1.2189e+00,  7.5522e-02,\n          -2.1225e+00, -3.5256e-01, -1.6900e+00, -3.7422e-01,  7.3545e-01,\n           1.7450e+00, -5.5068e-01]],\n\n        [[ 1.0333e+00, -4.5160e-01,  3.1171e+00,  5.5926e-01,  6.0180e-01,\n           1.5401e+00,  1.3210e+00, -7.8464e-01,  1.5531e+00,  7.4098e-01,\n           5.0706e-02, -3.2763e-01],\n         [ 6.1975e-01, -1.3250e+00, -9.1961e-01, -1.2189e+00,  7.5522e-02,\n          -2.1225e+00, -3.5256e-01, -1.6900e+00, -3.7422e-01,  7.3545e-01,\n           1.7450e+00, -5.5068e-01]],\n\n        [[-1.6657e+00,  2.1550e+00,  4.7367e-03, -8.0443e-02,  1.4883e+00,\n          -7.5360e-01,  7.3248e-01, -4.1178e-01,  1.7882e+00,  3.1080e-01,\n          -1.4781e+00,  1.4924e-01],\n         [ 6.1975e-01, -1.3250e+00, -9.1961e-01, -1.2189e+00,  7.5522e-02,\n          -2.1225e+00, -3.5256e-01, -1.6900e+00, -3.7422e-01,  7.3545e-01,\n           1.7450e+00, -5.5068e-01]],\n\n        [[-9.6691e-01,  1.2917e+00,  4.0011e-01,  7.1057e-01,  3.3717e-01,\n          -4.6210e-01,  4.6384e-01,  4.8635e-01,  1.2850e+00, -6.4871e-01,\n          -1.3894e+00,  1.3575e+00],\n         [ 6.1975e-01, -1.3250e+00, -9.1961e-01, -1.2189e+00,  7.5522e-02,\n          -2.1225e+00, -3.5256e-01, -1.6900e+00, -3.7422e-01,  7.3545e-01,\n           1.7450e+00, -5.5068e-01]],\n\n        [[-4.4657e-01, -1.3215e+00,  7.0082e-01,  1.6989e+00,  3.9491e-01,\n           1.1546e+00,  1.1447e+00, -4.5091e-01, -3.2817e-01, -9.0737e-01,\n          -1.0970e+00, -1.5138e+00],\n         [ 6.1975e-01, -1.3250e+00, -9.1961e-01, -1.2189e+00,  7.5522e-02,\n          -2.1225e+00, -3.5256e-01, -1.6900e+00, -3.7422e-01,  7.3545e-01,\n           1.7450e+00, -5.5068e-01]],\n\n        [[-1.0332e+00,  3.3215e-01,  6.1788e-01, -1.0768e+00, -3.8587e-01,\n           9.7295e-01,  1.4667e-01, -4.9210e-01, -1.8393e-01, -5.8391e-01,\n           6.6691e-04,  4.3304e-01],\n         [ 6.1975e-01, -1.3250e+00, -9.1961e-01, -1.2189e+00,  7.5522e-02,\n          -2.1225e+00, -3.5256e-01, -1.6900e+00, -3.7422e-01,  7.3545e-01,\n           1.7450e+00, -5.5068e-01]]], grad_fn=<EmbeddingBackward>)"
     },
     "execution_count": 12,
     "metadata": {},
     "output_type": "execute_result"
    }
   ],
   "source": [
    "emb"
   ],
   "metadata": {
    "collapsed": false,
    "pycharm": {
     "name": "#%%\n"
    }
   }
  },
  {
   "cell_type": "code",
   "execution_count": 13,
   "outputs": [
    {
     "data": {
      "text/plain": "tensor([10,  4])"
     },
     "execution_count": 13,
     "metadata": {},
     "output_type": "execute_result"
    }
   ],
   "source": [
    "lenghts"
   ],
   "metadata": {
    "collapsed": false,
    "pycharm": {
     "name": "#%%\n"
    }
   }
  },
  {
   "cell_type": "code",
   "execution_count": 44,
   "outputs": [],
   "source": [
    "a = nn.utils.rnn.pack_padded_sequence(emb, lenghts)"
   ],
   "metadata": {
    "collapsed": false,
    "pycharm": {
     "name": "#%%\n"
    }
   }
  },
  {
   "cell_type": "code",
   "execution_count": 50,
   "outputs": [
    {
     "data": {
      "text/plain": "tensor([[-0.2323, -0.4284,  1.5039, -1.2393,  0.0335,  0.1277,  0.3990,  2.3291,\n         -1.1485,  1.0952,  0.9284, -2.3696],\n        [ 0.1640, -0.8388, -1.2931, -0.7188, -0.5120, -0.5363,  0.4604, -1.0087,\n          0.1091,  1.8481,  2.3347,  0.5019],\n        [ 1.7727,  0.6450,  0.0584,  0.1305,  0.1873, -0.1868,  1.0666,  1.8425,\n         -2.0361, -0.2729, -0.8967,  1.3933],\n        [-0.2602,  1.6733,  0.9693,  0.4409,  0.0860, -0.0863,  1.1530,  0.4084,\n          0.0098,  1.2563, -1.4813, -0.4833],\n        [ 0.7899, -0.4167, -0.4157, -0.3190, -0.2022, -0.2899,  0.0514,  0.5048,\n          0.7056, -0.4243, -0.2609, -1.3138],\n        [ 1.5127, -0.3135,  1.2143,  0.4671, -0.9024,  0.0434,  1.3880, -0.2685,\n         -0.6560,  0.3679,  0.1427, -1.1379],\n        [-0.2076,  0.1346, -0.0425, -1.4533,  0.4038,  1.8281, -3.0003,  0.1724,\n          2.0092,  1.3680,  0.2126,  0.8002],\n        [ 1.1437,  0.0152,  0.4761,  0.8298,  1.1741, -0.1002, -0.4736, -1.7049,\n          0.3177,  1.6033, -0.0522, -0.6629],\n        [-0.8531, -0.8773, -0.3428, -1.3088,  0.8431,  0.5274, -0.3060,  0.9318,\n         -0.6861,  0.2911, -0.7018, -0.6459],\n        [ 0.1595,  1.1022,  0.2567, -0.2454, -0.0678, -0.7857, -0.5649,  0.0487,\n         -0.3675, -2.0010, -0.2511, -0.3510],\n        [-1.9451,  1.6093,  1.8283, -0.1379,  0.1103, -1.7017, -0.9518, -0.0725,\n          1.7698, -0.0640, -0.9281, -0.2459],\n        [ 1.1437,  0.0152,  0.4761,  0.8298,  1.1741, -0.1002, -0.4736, -1.7049,\n          0.3177,  1.6033, -0.0522, -0.6629]],\n       grad_fn=<PackPaddedSequenceBackward>)"
     },
     "execution_count": 50,
     "metadata": {},
     "output_type": "execute_result"
    }
   ],
   "source": [
    "a.data"
   ],
   "metadata": {
    "collapsed": false,
    "pycharm": {
     "name": "#%%\n"
    }
   }
  },
  {
   "cell_type": "code",
   "execution_count": 28,
   "outputs": [],
   "source": [],
   "metadata": {
    "collapsed": false,
    "pycharm": {
     "name": "#%%\n"
    }
   }
  },
  {
   "cell_type": "code",
   "execution_count": 28,
   "outputs": [],
   "source": [],
   "metadata": {
    "collapsed": false,
    "pycharm": {
     "name": "#%%\n"
    }
   }
  },
  {
   "cell_type": "code",
   "execution_count": 28,
   "outputs": [],
   "source": [],
   "metadata": {
    "collapsed": false,
    "pycharm": {
     "name": "#%%\n"
    }
   }
  },
  {
   "cell_type": "code",
   "execution_count": null,
   "outputs": [],
   "source": [
    "\n"
   ],
   "metadata": {
    "collapsed": false,
    "pycharm": {
     "name": "#%%\n"
    }
   }
  }
 ],
 "metadata": {
  "kernelspec": {
   "name": "pycharm-86459515",
   "language": "python",
   "display_name": "PyCharm (Emotion-Recognition)"
  },
  "language_info": {
   "codemirror_mode": {
    "name": "ipython",
    "version": 2
   },
   "file_extension": ".py",
   "mimetype": "text/x-python",
   "name": "python",
   "nbconvert_exporter": "python",
   "pygments_lexer": "ipython2",
   "version": "2.7.6"
  }
 },
 "nbformat": 4,
 "nbformat_minor": 0
}