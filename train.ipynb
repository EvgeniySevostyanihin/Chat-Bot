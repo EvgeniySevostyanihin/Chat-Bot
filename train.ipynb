{
 "cells": [
  {
   "cell_type": "code",
   "execution_count": 1,
   "metadata": {
    "collapsed": true
   },
   "outputs": [],
   "source": [
    "import torch\n",
    "from torch import nn\n",
    "from torch.optim import Adam\n",
    "from model import load_models, Encoder, AttentionDecoder, EMBEDDING_SIZE\n",
    "import random\n",
    "from prepared import load_voc, batch2train_data\n",
    "import os\n",
    "import matplotlib.pyplot as plt\n",
    "import numpy as np"
   ]
  },
  {
   "cell_type": "code",
   "execution_count": 2,
   "outputs": [],
   "source": [
    "data, Vocabulary = load_voc()"
   ],
   "metadata": {
    "collapsed": false,
    "pycharm": {
     "name": "#%%\n"
    }
   }
  },
  {
   "cell_type": "code",
   "execution_count": 3,
   "outputs": [],
   "source": [
    "device = \"cuda:0\"\n",
    "batch_size = 2"
   ],
   "metadata": {
    "collapsed": false,
    "pycharm": {
     "name": "#%%\n"
    }
   }
  },
  {
   "cell_type": "code",
   "execution_count": 4,
   "outputs": [
    {
     "data": {
      "text/plain": "35691"
     },
     "execution_count": 4,
     "metadata": {},
     "output_type": "execute_result"
    }
   ],
   "source": [
    "Vocabulary.num_words"
   ],
   "metadata": {
    "collapsed": false,
    "pycharm": {
     "name": "#%%\n"
    }
   }
  },
  {
   "cell_type": "code",
   "execution_count": 5,
   "outputs": [],
   "source": [
    "embedding = nn.Embedding(2**16, EMBEDDING_SIZE).to(device)\n",
    "encoder = Encoder(embedding).to(device)\n",
    "decoder = AttentionDecoder(embedding).to(device)"
   ],
   "metadata": {
    "collapsed": false,
    "pycharm": {
     "name": "#%%\n"
    }
   }
  },
  {
   "cell_type": "code",
   "execution_count": 6,
   "outputs": [
    {
     "data": {
      "text/plain": "0"
     },
     "execution_count": 6,
     "metadata": {},
     "output_type": "execute_result"
    }
   ],
   "source": [
    "# encoder, decoder, embedding = load_models()\n",
    "\n",
    "encoder_optim = Adam(encoder.parameters(), lr=1e-4)\n",
    "decoder_optim = Adam(decoder.parameters(), lr=5e-4)\n",
    "\n",
    "encoder.epochs"
   ],
   "metadata": {
    "collapsed": false,
    "pycharm": {
     "name": "#%%\n"
    }
   }
  },
  {
   "cell_type": "code",
   "execution_count": 7,
   "outputs": [],
   "source": [
    "def calculate_loss(inp, target, mask):\n",
    "\n",
    "    loss = -torch.log(torch.gather(inp, 1, target.view(-1, 1)).squeeze(1))\n",
    "    loss = loss.masked_select(mask).mean()\n",
    "    loss = loss.to(device)\n",
    "\n",
    "    return loss"
   ],
   "metadata": {
    "collapsed": false,
    "pycharm": {
     "name": "#%%\n"
    }
   }
  },
  {
   "cell_type": "code",
   "execution_count": 8,
   "outputs": [],
   "source": [
    "def train(epochs):\n",
    "    # для вывода графика\n",
    "    history = []\n",
    "    short_mem = []\n",
    "\n",
    "    for _ in range(epochs):\n",
    "        # всё стандартно\n",
    "        encoder_optim.zero_grad()\n",
    "        decoder_optim.zero_grad()\n",
    "\n",
    "        inp, lenghts, target, mask, max_target_len = batch2train_data([random.choice(data) \\\n",
    "                                                                       for _ in range(batch_size)])\n",
    "\n",
    "        inp = inp.to(device)\n",
    "        lenghts = lenghts.to(device)\n",
    "        target = target.to(device)\n",
    "        mask = mask.to(device)\n",
    "        # провожу через енкодинг\n",
    "        encoder_out, encoder_hidden = encoder(inp, lenghts)\n",
    "        # начальное значение для работы декодера\n",
    "        decoder_input = torch.ones(batch_size).long().to(device).unsqueeze(0)\n",
    "\n",
    "        loss = 0\n",
    "\n",
    "        for i in range(max_target_len):\n",
    "            decoder_out, decoder_hidden = decoder(decoder_input, encoder_hidden[:2], encoder_out)\n",
    "\n",
    "            decoder_input = torch.LongTensor([[decoder_out.topk(1)[1][x][0] for\\\n",
    "                                               x in range(batch_size)]]).to(device)\n",
    "\n",
    "            loss += calculate_loss(decoder_out, target[i], mask[i])\n",
    "\n",
    "        short_mem.append(loss)\n",
    "\n",
    "        if not encoder.epochs % 250:\n",
    "            print(f'{encoder.epochs}  {loss}')\n",
    "            history.append(torch.tensor(short_mem).mean())\n",
    "            short_mem = []\n",
    "\n",
    "        loss.backward()\n",
    "\n",
    "        encoder_optim.step()\n",
    "        decoder_optim.step()\n",
    "\n",
    "        encoder.epochs += 1\n",
    "\n",
    "        # save model\n",
    "\n",
    "        if not encoder.epochs % 1000:\n",
    "\n",
    "            torch.save(encoder, f\"models/encoder{encoder.epochs}\")\n",
    "            torch.save(decoder, f\"models/decoder{encoder.epochs}\")\n",
    "            torch.save(embedding, f\"models/embedding{encoder.epochs}\")\n",
    "\n",
    "    return history"
   ],
   "metadata": {
    "collapsed": false,
    "pycharm": {
     "name": "#%%\n"
    }
   }
  },
  {
   "cell_type": "code",
   "execution_count": 9,
   "outputs": [
    {
     "name": "stdout",
     "output_type": "stream",
     "text": [
      "0  387.00775146484375\n",
      "250  396.31781005859375\n",
      "500  1299.4212646484375\n",
      "750  210.7831268310547\n",
      "1000  360.5287780761719\n",
      "1250  173.14456176757812\n",
      "1500  247.78475952148438\n",
      "1750  572.3201904296875\n",
      "2000  52.79213333129883\n",
      "2250  36.03361129760742\n",
      "2500  15.699657440185547\n",
      "2750  504.3924865722656\n",
      "3000  250.3270721435547\n",
      "3250  224.95924377441406\n",
      "3500  145.0924530029297\n",
      "3750  258.6114196777344\n",
      "4000  61.06736755371094\n",
      "4250  359.87628173828125\n",
      "4500  277.4766540527344\n",
      "4750  24.60407257080078\n",
      "5000  58.48957443237305\n",
      "5250  177.70460510253906\n",
      "5500  128.12498474121094\n",
      "5750  111.02143859863281\n",
      "6000  37.861854553222656\n",
      "6250  24.299524307250977\n",
      "6500  63.353546142578125\n",
      "6750  97.99394226074219\n",
      "7000  24.696056365966797\n",
      "7250  1164.6624755859375\n",
      "7500  353.9559020996094\n",
      "7750  839.18896484375\n",
      "8000  466.68670654296875\n",
      "8250  47.057533264160156\n",
      "8500  745.7867431640625\n",
      "8750  158.3424072265625\n",
      "9000  16.43218994140625\n",
      "9250  560.142822265625\n",
      "9500  50.350894927978516\n",
      "9750  86.2644271850586\n",
      "CPU times: user 26min 23s, sys: 11.1 s, total: 26min 34s\n",
      "Wall time: 26min 36s\n"
     ]
    }
   ],
   "source": [
    "%%time\n",
    "history = train(10000)"
   ],
   "metadata": {
    "collapsed": false,
    "pycharm": {
     "name": "#%%\n"
    }
   }
  },
  {
   "cell_type": "code",
   "execution_count": 10,
   "outputs": [
    {
     "data": {
      "text/plain": "10000"
     },
     "execution_count": 10,
     "metadata": {},
     "output_type": "execute_result"
    }
   ],
   "source": [
    "encoder.epochs"
   ],
   "metadata": {
    "collapsed": false,
    "pycharm": {
     "name": "#%%\n"
    }
   }
  },
  {
   "cell_type": "code",
   "execution_count": 12,
   "outputs": [
    {
     "data": {
      "text/plain": "[<matplotlib.lines.Line2D at 0x7f2803465970>]"
     },
     "execution_count": 12,
     "metadata": {},
     "output_type": "execute_result"
    },
    {
     "data": {
      "text/plain": "<Figure size 432x288 with 1 Axes>",
      "image/png": "[encoded data removed]"
     },
     "metadata": {
      "needs_background": "light"
     },
     "output_type": "display_data"
    }
   ],
   "source": [
    "plt.plot(history[2:])\n"
   ],
   "metadata": {
    "collapsed": false,
    "pycharm": {
     "name": "#%%\n"
    }
   }
  },
  {
   "cell_type": "code",
   "execution_count": 11,
   "outputs": [],
   "source": [],
   "metadata": {
    "collapsed": false,
    "pycharm": {
     "name": "#%%\n"
    }
   }
  },
  {
   "cell_type": "code",
   "execution_count": 11,
   "outputs": [],
   "source": [],
   "metadata": {
    "collapsed": false,
    "pycharm": {
     "name": "#%%\n"
    }
   }
  },
  {
   "cell_type": "code",
   "execution_count": 11,
   "outputs": [],
   "source": [],
   "metadata": {
    "collapsed": false,
    "pycharm": {
     "name": "#%%\n"
    }
   }
  },
  {
   "cell_type": "code",
   "execution_count": 11,
   "outputs": [],
   "source": [],
   "metadata": {
    "collapsed": false,
    "pycharm": {
     "name": "#%%\n"
    }
   }
  },
  {
   "cell_type": "code",
   "execution_count": 11,
   "outputs": [],
   "source": [],
   "metadata": {
    "collapsed": false,
    "pycharm": {
     "name": "#%%\n"
    }
   }
  },
  {
   "cell_type": "code",
   "execution_count": 11,
   "outputs": [],
   "source": [],
   "metadata": {
    "collapsed": false,
    "pycharm": {
     "name": "#%%\n"
    }
   }
  },
  {
   "cell_type": "code",
   "execution_count": 11,
   "outputs": [],
   "source": [],
   "metadata": {
    "collapsed": false,
    "pycharm": {
     "name": "#%%\n"
    }
   }
  },
  {
   "cell_type": "code",
   "execution_count": null,
   "outputs": [],
   "source": [
    "\n"
   ],
   "metadata": {
    "collapsed": false,
    "pycharm": {
     "name": "#%%\n"
    }
   }
  }
 ],
 "metadata": {
  "kernelspec": {
   "name": "pycharm-86459515",
   "language": "python",
   "display_name": "PyCharm (Emotion-Recognition)"
  },
  "language_info": {
   "codemirror_mode": {
    "name": "ipython",
    "version": 2
   },
   "file_extension": ".py",
   "mimetype": "text/x-python",
   "name": "python",
   "nbconvert_exporter": "python",
   "pygments_lexer": "ipython2",
   "version": "2.7.6"
  }
 },
 "nbformat": 4,
 "nbformat_minor": 0
}