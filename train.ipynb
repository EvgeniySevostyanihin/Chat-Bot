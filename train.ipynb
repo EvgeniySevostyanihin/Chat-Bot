{
 "cells": [
  {
   "cell_type": "code",
   "execution_count": 17,
   "metadata": {
    "collapsed": true
   },
   "outputs": [],
   "source": [
    "import itertools\n",
    "import os\n",
    "import re\n",
    "import unicodedata\n",
    "import torch\n",
    "from torch import nn\n",
    "from torch.optim import Adam\n",
    "from model import load_models, Encoder, AttentionDecoder, EMBEDDING_SIZE\n",
    "import random\n",
    "from prepared import load_voc, batch2train_data, input_var, indexesFromSentence\n",
    "import matplotlib.pyplot as plt\n",
    "import string"
   ]
  },
  {
   "cell_type": "code",
   "execution_count": 2,
   "outputs": [],
   "source": [
    "data, Vocabulary = load_voc()"
   ],
   "metadata": {
    "collapsed": false,
    "pycharm": {
     "name": "#%%\n"
    }
   }
  },
  {
   "cell_type": "code",
   "execution_count": 3,
   "outputs": [],
   "source": [
    "device = \"cuda:0\"\n",
    "batch_size = 2"
   ],
   "metadata": {
    "collapsed": false,
    "pycharm": {
     "name": "#%%\n"
    }
   }
  },
  {
   "cell_type": "code",
   "execution_count": 4,
   "outputs": [
    {
     "data": {
      "text/plain": "35691"
     },
     "execution_count": 4,
     "metadata": {},
     "output_type": "execute_result"
    }
   ],
   "source": [
    "Vocabulary.num_words"
   ],
   "metadata": {
    "collapsed": false,
    "pycharm": {
     "name": "#%%\n"
    }
   }
  },
  {
   "cell_type": "code",
   "execution_count": 5,
   "outputs": [],
   "source": [
    "# embedding = nn.Embedding(2**16, EMBEDDING_SIZE).to(device)\n",
    "# encoder = Encoder(embedding).to(device)\n",
    "# decoder = AttentionDecoder(embedding).to(device)"
   ],
   "metadata": {
    "collapsed": false,
    "pycharm": {
     "name": "#%%\n"
    }
   }
  },
  {
   "cell_type": "code",
   "execution_count": 6,
   "outputs": [
    {
     "data": {
      "text/plain": "325000"
     },
     "execution_count": 6,
     "metadata": {},
     "output_type": "execute_result"
    }
   ],
   "source": [
    "encoder, decoder, embedding = load_models()\n",
    "\n",
    "encoder_optim = Adam(encoder.parameters(), lr=5e-3)\n",
    "decoder_optim = Adam(decoder.parameters(), lr=1e-3)\n",
    "\n",
    "encoder.epochs"
   ],
   "metadata": {
    "collapsed": false,
    "pycharm": {
     "name": "#%%\n"
    }
   }
  },
  {
   "cell_type": "code",
   "execution_count": 7,
   "outputs": [],
   "source": [
    "def calculate_loss(inp, target, mask):\n",
    "\n",
    "    loss = -torch.log(torch.gather(inp, 1, target.view(-1, 1)).squeeze(1))\n",
    "    loss = loss.masked_select(mask).mean()\n",
    "    loss = loss.to(device)\n",
    "\n",
    "    return loss"
   ],
   "metadata": {
    "collapsed": false,
    "pycharm": {
     "name": "#%%\n"
    }
   }
  },
  {
   "cell_type": "code",
   "execution_count": 8,
   "outputs": [],
   "source": [
    "def train(epochs):\n",
    "    # для вывода графика\n",
    "    history = []\n",
    "    short_mem = []\n",
    "    print(1)\n",
    "    for _ in range(epochs):\n",
    "        # всё стандартно\n",
    "        encoder_optim.zero_grad()\n",
    "        decoder_optim.zero_grad()\n",
    "\n",
    "        inp, lenghts, target, mask, max_target_len = batch2train_data([random.choice(data) \\\n",
    "                                                                       for _ in range(batch_size)])\n",
    "\n",
    "        inp = inp.to(device)\n",
    "        lenghts = lenghts.to(device)\n",
    "        target = target.to(device)\n",
    "        mask = mask.to(device)\n",
    "        # провожу через енкодинг\n",
    "        encoder_out, encoder_hidden = encoder(inp, lenghts)\n",
    "        # начальное значение для работы декодера\n",
    "        decoder_input = torch.ones(batch_size).long().to(device).unsqueeze(0)\n",
    "\n",
    "        loss = 0\n",
    "\n",
    "        decoder_hidden = encoder_hidden[:2]\n",
    "        for i in range(max_target_len):\n",
    "            decoder_out, decoder_hidden = decoder(decoder_input, decoder_hidden, encoder_out)\n",
    "\n",
    "            decoder_input = torch.LongTensor([[decoder_out.topk(1)[1][x][0] for\\\n",
    "                                               x in range(batch_size)]]).to(device)\n",
    "\n",
    "            loss += calculate_loss(decoder_out, target[i], mask[i])\n",
    "\n",
    "        short_mem.append(loss)\n",
    "\n",
    "        if not encoder.epochs % 10000:\n",
    "            print(f'{encoder.epochs}  {torch.tensor(short_mem).mean()}')\n",
    "            history.append(torch.tensor(short_mem).mean())\n",
    "            short_mem = []\n",
    "\n",
    "        loss.backward()\n",
    "\n",
    "        encoder_optim.step()\n",
    "        decoder_optim.step()\n",
    "\n",
    "        encoder.epochs += 1\n",
    "\n",
    "        # save model\n",
    "\n",
    "        if not encoder.epochs % 25000:\n",
    "\n",
    "            torch.save(encoder, f\"models/encoder{encoder.epochs}\")\n",
    "            torch.save(decoder, f\"models/decoder{encoder.epochs}\")\n",
    "            torch.save(embedding, f\"models/embedding{encoder.epochs}\")\n",
    "\n",
    "    return history"
   ],
   "metadata": {
    "collapsed": false,
    "pycharm": {
     "name": "#%%\n"
    }
   }
  },
  {
   "cell_type": "code",
   "execution_count": 9,
   "outputs": [
    {
     "name": "stdout",
     "output_type": "stream",
     "text": [
      "1\n",
      "280000  222.98318481445312\n",
      "290000  209.33255004882812\n",
      "300000  197.84295654296875\n",
      "310000  190.88201904296875\n",
      "320000  188.64288330078125\n",
      "CPU times: user 2h 9min 39s, sys: 53.2 s, total: 2h 10min 32s\n",
      "Wall time: 2h 10min 40s\n"
     ]
    }
   ],
   "source": [
    "%%time\n",
    "history = train(int(5e4))"
   ],
   "metadata": {
    "collapsed": false,
    "pycharm": {
     "name": "#%%\n"
    }
   }
  },
  {
   "cell_type": "code",
   "execution_count": 10,
   "outputs": [
    {
     "data": {
      "text/plain": "325000"
     },
     "execution_count": 10,
     "metadata": {},
     "output_type": "execute_result"
    }
   ],
   "source": [
    "encoder.epochs"
   ],
   "metadata": {
    "collapsed": false,
    "pycharm": {
     "name": "#%%\n"
    }
   }
  },
  {
   "cell_type": "code",
   "execution_count": 11,
   "outputs": [
    {
     "data": {
      "text/plain": "[<matplotlib.lines.Line2D at 0x7f8567cfbf70>]"
     },
     "execution_count": 11,
     "metadata": {},
     "output_type": "execute_result"
    },
    {
     "data": {
      "text/plain": "<Figure size 432x288 with 1 Axes>",
      "image/png": "[encoded data removed]"
     },
     "metadata": {
      "needs_background": "light"
     },
     "output_type": "display_data"
    }
   ],
   "source": [
    "plt.plot(history)"
   ],
   "metadata": {
    "collapsed": false,
    "pycharm": {
     "name": "#%%\n"
    }
   }
  },
  {
   "cell_type": "code",
   "execution_count": 19,
   "outputs": [],
   "source": [
    "# embedding = nn.Embedding(2**16, EMBEDDING_SIZE).to(device)\n",
    "# encoder = Encoder(embedding).to(device)\n",
    "# decoder = AttentionDecoder(embedding).to(device)"
   ],
   "metadata": {
    "collapsed": false,
    "pycharm": {
     "name": "#%%\n"
    }
   }
  },
  {
   "cell_type": "code",
   "execution_count": 50,
   "outputs": [],
   "source": [
    "def greedy_search(sequence, length, maximum=30):\n",
    "    # всё также как на тренировке\n",
    "    encoder_out, encoder_hidden = encoder(sequence, length)\n",
    "\n",
    "    decoder_hidden = encoder_hidden[:2]\n",
    "    decoder_input = torch.ones(1, 1, device=device, dtype=torch.long)\n",
    "    # здесь складываються ответы по жадному методу\n",
    "    all_tokens = torch.zeros([0], device=device, dtype=torch.long)\n",
    "    # всего будет 30 оборотов, при выводе отрежуться ненужные токены, а 30, чтобы больше не было\n",
    "    for _ in range(maximum):\n",
    "\n",
    "        decoder_output, decoder_hidden = decoder(decoder_input, decoder_hidden, encoder_out)\n",
    "\n",
    "        _, decoder_input = torch.max(decoder_output, dim=1)\n",
    "\n",
    "        all_tokens = torch.cat((all_tokens, decoder_input), dim=0)\n",
    "\n",
    "        decoder_input = decoder_input.unsqueeze(0)\n",
    "\n",
    "    return all_tokens"
   ],
   "metadata": {
    "collapsed": false,
    "pycharm": {
     "name": "#%%\n"
    }
   }
  },
  {
   "cell_type": "code",
   "execution_count": 51,
   "outputs": [],
   "source": [
    "clean = lambda text: \"\".join(x for x in text.lower() if x not in string.punctuation)"
   ],
   "metadata": {
    "collapsed": false,
    "pycharm": {
     "name": "#%%\n"
    }
   }
  },
  {
   "cell_type": "code",
   "execution_count": 58,
   "outputs": [],
   "source": [
    "text = \"а\"\n",
    "text = clean(text)\n",
    "text = torch.tensor([indexesFromSentence(text)])"
   ],
   "metadata": {
    "collapsed": false,
    "pycharm": {
     "name": "#%%\n"
    }
   }
  },
  {
   "cell_type": "code",
   "execution_count": 59,
   "outputs": [
    {
     "data": {
      "text/plain": "tensor([2])"
     },
     "execution_count": 59,
     "metadata": {},
     "output_type": "execute_result"
    }
   ],
   "source": [
    "length = torch.tensor([len(text[0])])\n",
    "length"
   ],
   "metadata": {
    "collapsed": false,
    "pycharm": {
     "name": "#%%\n"
    }
   }
  },
  {
   "cell_type": "code",
   "execution_count": 60,
   "outputs": [
    {
     "data": {
      "text/plain": "tensor([[80],\n        [ 2]], device='cuda:0')"
     },
     "execution_count": 60,
     "metadata": {},
     "output_type": "execute_result"
    }
   ],
   "source": [
    "text = text.transpose(0, 1).long().to(device)\n",
    "text"
   ],
   "metadata": {
    "collapsed": false,
    "pycharm": {
     "name": "#%%\n"
    }
   }
  },
  {
   "cell_type": "code",
   "execution_count": 61,
   "outputs": [],
   "source": [
    "text = greedy_search(text, length)"
   ],
   "metadata": {
    "collapsed": false,
    "pycharm": {
     "name": "#%%\n"
    }
   }
  },
  {
   "cell_type": "code",
   "execution_count": 62,
   "outputs": [
    {
     "data": {
      "text/plain": "tensor([80,  4,  4,  4,  4,  4,  4,  4,  4,  4,  4,  4,  4,  4,  4,  4,  4,  4,\n         4,  4,  4,  4,  4,  4,  4,  4,  4,  4,  4,  4], device='cuda:0')"
     },
     "execution_count": 62,
     "metadata": {},
     "output_type": "execute_result"
    }
   ],
   "source": [
    "text"
   ],
   "metadata": {
    "collapsed": false,
    "pycharm": {
     "name": "#%%\n"
    }
   }
  },
  {
   "cell_type": "code",
   "execution_count": 63,
   "outputs": [
    {
     "name": "stdout",
     "output_type": "stream",
     "text": [
      "а\n",
      "\n",
      "\n",
      "\n",
      "\n",
      "\n",
      "\n",
      "\n",
      "\n",
      "\n",
      "\n",
      "\n",
      "\n",
      "\n",
      "\n",
      "\n",
      "\n",
      "\n",
      "\n",
      "\n",
      "\n",
      "\n",
      "\n",
      "\n",
      "\n",
      "\n",
      "\n",
      "\n",
      "\n",
      "\n"
     ]
    }
   ],
   "source": [
    "for token in text:\n",
    "    try:\n",
    "        print(Vocabulary.index2word[token.item()])\n",
    "    except:\n",
    "        print(token)\n",
    "\n"
   ],
   "metadata": {
    "collapsed": false,
    "pycharm": {
     "name": "#%%\n"
    }
   }
  }
 ],
 "metadata": {
  "kernelspec": {
   "name": "pycharm-86459515",
   "language": "python",
   "display_name": "PyCharm (Emotion-Recognition)"
  },
  "language_info": {
   "codemirror_mode": {
    "name": "ipython",
    "version": 2
   },
   "file_extension": ".py",
   "mimetype": "text/x-python",
   "name": "python",
   "nbconvert_exporter": "python",
   "pygments_lexer": "ipython2",
   "version": "2.7.6"
  }
 },
 "nbformat": 4,
 "nbformat_minor": 0
}