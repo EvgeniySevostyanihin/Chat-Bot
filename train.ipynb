{
 "cells": [
  {
   "cell_type": "code",
   "execution_count": 1,
   "metadata": {
    "collapsed": true
   },
   "outputs": [],
   "source": [
    "import torch\n",
    "from torch import nn\n",
    "from torch.optim import Adam\n",
    "from model import load_models\n",
    "import random\n",
    "from prepared import load_voc, batch2train_data\n",
    "import os\n",
    "import matplotlib.pyplot as plt\n",
    "import numpy as np"
   ]
  },
  {
   "cell_type": "code",
   "execution_count": 2,
   "outputs": [],
   "source": [
    "data, Vocabulary = load_voc()"
   ],
   "metadata": {
    "collapsed": false,
    "pycharm": {
     "name": "#%%\n"
    }
   }
  },
  {
   "cell_type": "code",
   "execution_count": 3,
   "outputs": [],
   "source": [
    "device = \"cuda:0\"\n",
    "batch_size = 2"
   ],
   "metadata": {
    "collapsed": false,
    "pycharm": {
     "name": "#%%\n"
    }
   }
  },
  {
   "cell_type": "code",
   "execution_count": 4,
   "outputs": [
    {
     "data": {
      "text/plain": "7000"
     },
     "execution_count": 4,
     "metadata": {},
     "output_type": "execute_result"
    }
   ],
   "source": [
    "encoder, decoder, embedding = load_models()\n",
    "\n",
    "encoder_optim = Adam(encoder.parameters(), lr=1e-4)\n",
    "decoder_optim = Adam(decoder.parameters(), lr=5e-4)\n",
    "\n",
    "encoder.epochs"
   ],
   "metadata": {
    "collapsed": false,
    "pycharm": {
     "name": "#%%\n"
    }
   }
  },
  {
   "cell_type": "code",
   "execution_count": 5,
   "outputs": [],
   "source": [
    "def calculate_loss(inp, target, mask):\n",
    "\n",
    "    loss = -torch.log(torch.gather(inp, 1, target.view(-1, 1)).squeeze(1))\n",
    "    loss = loss.masked_select(mask).mean()\n",
    "    loss = loss.to(device)\n",
    "\n",
    "    return loss"
   ],
   "metadata": {
    "collapsed": false,
    "pycharm": {
     "name": "#%%\n"
    }
   }
  },
  {
   "cell_type": "code",
   "execution_count": 26,
   "outputs": [],
   "source": [
    "def train(epochs):\n",
    "\n",
    "    history = []\n",
    "\n",
    "    short_mem = []\n",
    "\n",
    "    for _ in range(epochs):\n",
    "\n",
    "        encoder_optim.zero_grad()\n",
    "        decoder_optim.zero_grad()\n",
    "\n",
    "        inp, lenghts, target, mask, max_target_len = batch2train_data([random.choice(data) for _ in range(batch_size)])\n",
    "\n",
    "        inp = inp.to(device)\n",
    "        lenghts = lenghts.to(device)\n",
    "        target = target.to(device)\n",
    "        mask = mask.to(device)\n",
    "\n",
    "        encoder_out, encoder_hidden = encoder(inp, lenghts)\n",
    "\n",
    "        decoder_input = torch.ones(batch_size).long().to(device).unsqueeze(0)\n",
    "\n",
    "        loss = 0\n",
    "\n",
    "        for i in range(max_target_len):\n",
    "\n",
    "            decoder_out, decoder_hidden = decoder(decoder_input, encoder_hidden[:2], encoder_out)\n",
    "\n",
    "            decoder_input = target[i].view(1, -1)\n",
    "\n",
    "            loss += calculate_loss(decoder_out, target[i], mask[i])\n",
    "\n",
    "        short_mem.append(loss)\n",
    "\n",
    "        if not encoder.epochs % 500:\n",
    "            print(f'{encoder.epochs}  {loss}')\n",
    "            history.append(torch.tensor(short_mem).mean())\n",
    "            short_mem = []\n",
    "\n",
    "        loss.backward()\n",
    "\n",
    "        encoder_optim.step()\n",
    "        decoder_optim.step()\n",
    "\n",
    "        encoder.epochs += 1\n",
    "\n",
    "        if not encoder.epochs % 1000:\n",
    "\n",
    "            torch.save(encoder, f\"models/encoder{encoder.epochs}\")\n",
    "            torch.save(decoder, f\"models/decoder{encoder.epochs}\")\n",
    "            torch.save(embedding, f\"models/embedding{encoder.epochs}\")\n",
    "\n",
    "    return history\n"
   ],
   "metadata": {
    "collapsed": false,
    "pycharm": {
     "name": "#%%\n"
    }
   }
  },
  {
   "cell_type": "code",
   "execution_count": 27,
   "outputs": [
    {
     "name": "stdout",
     "output_type": "stream",
     "text": [
      "11000  166.3999786376953\n",
      "11500  61.19450378417969\n",
      "12000  68.5097427368164\n",
      "12500  81.55601501464844\n",
      "13000  48.485107421875\n",
      "13500  300.7379150390625\n",
      "14000  672.4357299804688\n",
      "14500  119.1238784790039\n",
      "15000  594.693603515625\n",
      "15500  529.1550903320312\n",
      "16000  175.07284545898438\n",
      "16500  268.9053955078125\n",
      "17000  215.80039978027344\n",
      "17500  57.332645416259766\n",
      "18000  117.64300537109375\n",
      "18500  746.2840576171875\n",
      "19000  245.10272216796875\n",
      "19500  187.39369201660156\n",
      "20000  13.035927772521973\n",
      "20500  24.911218643188477\n",
      "CPU times: user 29min 51s, sys: 13.2 s, total: 30min 4s\n",
      "Wall time: 30min 7s\n"
     ]
    }
   ],
   "source": [
    "%%time\n",
    "history = train(10000)"
   ],
   "metadata": {
    "collapsed": false,
    "pycharm": {
     "name": "#%%\n"
    }
   }
  },
  {
   "cell_type": "code",
   "execution_count": 28,
   "outputs": [
    {
     "data": {
      "text/plain": "21000"
     },
     "execution_count": 28,
     "metadata": {},
     "output_type": "execute_result"
    }
   ],
   "source": [
    "encoder.epochs"
   ],
   "metadata": {
    "collapsed": false,
    "pycharm": {
     "name": "#%%\n"
    }
   }
  },
  {
   "cell_type": "code",
   "execution_count": 29,
   "outputs": [
    {
     "data": {
      "text/plain": "[<matplotlib.lines.Line2D at 0x7f45e4fafbe0>]"
     },
     "execution_count": 29,
     "metadata": {},
     "output_type": "execute_result"
    },
    {
     "data": {
      "text/plain": "<Figure size 432x288 with 1 Axes>",
      "image/png": "[encoded data removed]"
     },
     "metadata": {
      "needs_background": "light"
     },
     "output_type": "display_data"
    }
   ],
   "source": [
    "plt.plot(history)"
   ],
   "metadata": {
    "collapsed": false,
    "pycharm": {
     "name": "#%%\n"
    }
   }
  },
  {
   "cell_type": "code",
   "execution_count": 99,
   "outputs": [],
   "source": [],
   "metadata": {
    "collapsed": false,
    "pycharm": {
     "name": "#%%\n"
    }
   }
  },
  {
   "cell_type": "code",
   "execution_count": null,
   "outputs": [],
   "source": [
    "\n"
   ],
   "metadata": {
    "collapsed": false,
    "pycharm": {
     "name": "#%%\n"
    }
   }
  }
 ],
 "metadata": {
  "kernelspec": {
   "name": "pycharm-86459515",
   "language": "python",
   "display_name": "PyCharm (Emotion-Recognition)"
  },
  "language_info": {
   "codemirror_mode": {
    "name": "ipython",
    "version": 2
   },
   "file_extension": ".py",
   "mimetype": "text/x-python",
   "name": "python",
   "nbconvert_exporter": "python",
   "pygments_lexer": "ipython2",
   "version": "2.7.6"
  }
 },
 "nbformat": 4,
 "nbformat_minor": 0
}