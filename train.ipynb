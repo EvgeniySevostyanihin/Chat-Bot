{
 "cells": [
  {
   "cell_type": "code",
   "execution_count": 10,
   "metadata": {
    "collapsed": true
   },
   "outputs": [],
   "source": [
    "import torch\n",
    "from torch import nn\n",
    "from torch.optim import Adam\n",
    "from model import load_models, Encoder, AttentionDecoder, EMBEDDING_SIZE\n",
    "import random\n",
    "from prepared import load_voc, batch2train_data, input_var\n",
    "import matplotlib.pyplot as plt"
   ]
  },
  {
   "cell_type": "code",
   "execution_count": 11,
   "outputs": [],
   "source": [
    "data, Vocabulary = load_voc()"
   ],
   "metadata": {
    "collapsed": false,
    "pycharm": {
     "name": "#%%\n"
    }
   }
  },
  {
   "cell_type": "code",
   "execution_count": 12,
   "outputs": [],
   "source": [
    "device = \"cuda:0\"\n",
    "batch_size = 2"
   ],
   "metadata": {
    "collapsed": false,
    "pycharm": {
     "name": "#%%\n"
    }
   }
  },
  {
   "cell_type": "code",
   "execution_count": 13,
   "outputs": [
    {
     "data": {
      "text/plain": "35691"
     },
     "execution_count": 13,
     "metadata": {},
     "output_type": "execute_result"
    }
   ],
   "source": [
    "Vocabulary.num_words"
   ],
   "metadata": {
    "collapsed": false,
    "pycharm": {
     "name": "#%%\n"
    }
   }
  },
  {
   "cell_type": "code",
   "execution_count": 14,
   "outputs": [],
   "source": [
    "embedding = nn.Embedding(2**16, EMBEDDING_SIZE).to(device)\n",
    "encoder = Encoder(embedding).to(device)\n",
    "decoder = AttentionDecoder(embedding).to(device)"
   ],
   "metadata": {
    "collapsed": false,
    "pycharm": {
     "name": "#%%\n"
    }
   }
  },
  {
   "cell_type": "code",
   "execution_count": 15,
   "outputs": [
    {
     "data": {
      "text/plain": "0"
     },
     "execution_count": 15,
     "metadata": {},
     "output_type": "execute_result"
    }
   ],
   "source": [
    "# encoder, decoder, embedding = load_models()\n",
    "\n",
    "encoder_optim = Adam(encoder.parameters(), lr=1e-4)\n",
    "decoder_optim = Adam(decoder.parameters(), lr=5e-4)\n",
    "\n",
    "encoder.epochs"
   ],
   "metadata": {
    "collapsed": false,
    "pycharm": {
     "name": "#%%\n"
    }
   }
  },
  {
   "cell_type": "code",
   "execution_count": 16,
   "outputs": [],
   "source": [
    "def calculate_loss(inp, target, mask):\n",
    "\n",
    "    loss = -torch.log(torch.gather(inp, 1, target.view(-1, 1)).squeeze(1))\n",
    "    loss = loss.masked_select(mask).mean()\n",
    "    loss = loss.to(device)\n",
    "\n",
    "    return loss"
   ],
   "metadata": {
    "collapsed": false,
    "pycharm": {
     "name": "#%%\n"
    }
   }
  },
  {
   "cell_type": "code",
   "execution_count": 17,
   "outputs": [],
   "source": [
    "def train(epochs):\n",
    "    # для вывода графика\n",
    "    history = []\n",
    "    short_mem = []\n",
    "\n",
    "    for _ in range(epochs):\n",
    "        # всё стандартно\n",
    "        encoder_optim.zero_grad()\n",
    "        decoder_optim.zero_grad()\n",
    "\n",
    "        inp, lenghts, target, mask, max_target_len = batch2train_data([random.choice(data) \\\n",
    "                                                                       for _ in range(batch_size)])\n",
    "\n",
    "        inp = inp.to(device)\n",
    "        lenghts = lenghts.to(device)\n",
    "        target = target.to(device)\n",
    "        mask = mask.to(device)\n",
    "        # провожу через енкодинг\n",
    "        encoder_out, encoder_hidden = encoder(inp, lenghts)\n",
    "        # начальное значение для работы декодера\n",
    "        decoder_input = torch.ones(batch_size).long().to(device).unsqueeze(0)\n",
    "\n",
    "        loss = 0\n",
    "\n",
    "        decoder_hidden = encoder_hidden[:2]\n",
    "\n",
    "        for i in range(max_target_len):\n",
    "            decoder_out, decoder_hidden = decoder(decoder_input, decoder_hidden, encoder_out)\n",
    "\n",
    "            decoder_input = torch.LongTensor([[decoder_out.topk(1)[1][x][0] for\\\n",
    "                                               x in range(batch_size)]]).to(device)\n",
    "\n",
    "            loss += calculate_loss(decoder_out, target[i], mask[i])\n",
    "\n",
    "        short_mem.append(loss)\n",
    "\n",
    "        if not encoder.epochs % 1000:\n",
    "            print(f'{encoder.epochs}  {loss}')\n",
    "            history.append(torch.tensor(short_mem).mean())\n",
    "            short_mem = []\n",
    "\n",
    "        loss.backward()\n",
    "\n",
    "        encoder_optim.step()\n",
    "        decoder_optim.step()\n",
    "\n",
    "        encoder.epochs += 1\n",
    "\n",
    "        # save model\n",
    "\n",
    "        if not encoder.epochs % 1000:\n",
    "\n",
    "            torch.save(encoder, f\"models/encoder{encoder.epochs}\")\n",
    "            torch.save(decoder, f\"models/decoder{encoder.epochs}\")\n",
    "            torch.save(embedding, f\"models/embedding{encoder.epochs}\")\n",
    "\n",
    "    return history"
   ],
   "metadata": {
    "collapsed": false,
    "pycharm": {
     "name": "#%%\n"
    }
   }
  },
  {
   "cell_type": "code",
   "execution_count": 18,
   "outputs": [
    {
     "name": "stdout",
     "output_type": "stream",
     "text": [
      "0  233.4412384033203\n",
      "250  443.6858825683594\n",
      "500  108.73165130615234\n",
      "750  920.1856079101562\n",
      "1000  31.838638305664062\n",
      "1250  59.359004974365234\n",
      "1500  117.36520385742188\n",
      "1750  212.2256622314453\n",
      "2000  283.78436279296875\n",
      "2250  85.50106048583984\n",
      "2500  670.3023681640625\n",
      "2750  15.861475944519043\n",
      "3000  821.947265625\n",
      "3250  79.17782592773438\n",
      "3500  83.49701690673828\n",
      "3750  160.59173583984375\n",
      "4000  33.2389030456543\n",
      "4250  429.17486572265625\n",
      "4500  36.620609283447266\n",
      "4750  236.41908264160156\n",
      "5000  88.90542602539062\n",
      "5250  388.63531494140625\n",
      "5500  196.314697265625\n",
      "5750  171.79110717773438\n",
      "6000  155.70579528808594\n",
      "6250  15.127235412597656\n",
      "6500  142.1136016845703\n",
      "6750  90.85939025878906\n",
      "7000  459.95556640625\n",
      "7250  170.26571655273438\n",
      "7500  73.56256103515625\n",
      "7750  68.0396728515625\n",
      "8000  647.3107299804688\n",
      "8250  89.46467590332031\n",
      "8500  63.553810119628906\n",
      "8750  277.882080078125\n",
      "9000  350.80841064453125\n",
      "9250  206.03199768066406\n",
      "9500  65.32363891601562\n",
      "9750  57.47719955444336\n",
      "CPU times: user 25min 16s, sys: 10.9 s, total: 25min 26s\n",
      "Wall time: 25min 27s\n"
     ]
    }
   ],
   "source": [
    "%%time\n",
    "history = train(10000)"
   ],
   "metadata": {
    "collapsed": false,
    "pycharm": {
     "name": "#%%\n"
    }
   }
  },
  {
   "cell_type": "code",
   "execution_count": 19,
   "outputs": [
    {
     "data": {
      "text/plain": "10000"
     },
     "execution_count": 19,
     "metadata": {},
     "output_type": "execute_result"
    }
   ],
   "source": [
    "encoder.epochs"
   ],
   "metadata": {
    "collapsed": false,
    "pycharm": {
     "name": "#%%\n"
    }
   }
  },
  {
   "cell_type": "code",
   "execution_count": 21,
   "outputs": [
    {
     "data": {
      "text/plain": "[<matplotlib.lines.Line2D at 0x7f80b56b2eb0>]"
     },
     "execution_count": 21,
     "metadata": {},
     "output_type": "execute_result"
    },
    {
     "data": {
      "text/plain": "<Figure size 432x288 with 1 Axes>",
      "image/png": "[encoded data removed]"
     },
     "metadata": {
      "needs_background": "light"
     },
     "output_type": "display_data"
    }
   ],
   "source": [
    "plt.plot(history)"
   ],
   "metadata": {
    "collapsed": false,
    "pycharm": {
     "name": "#%%\n"
    }
   }
  },
  {
   "cell_type": "code",
   "execution_count": 47,
   "outputs": [],
   "source": [
    "def search(sequence):\n",
    "\n",
    "    inp, lengths = input_var([sequence])\n",
    "\n",
    "    inp = inp.to(device)\n",
    "    lengths = lengths.to(device)\n",
    "\n",
    "    encoder_out, encoder_hidden = encoder(inp, lengths)\n",
    "    decoder_input = torch.ones(1, 1, device=device, dtype=torch.long)\n",
    "\n",
    "    all_tokens = torch.zeros([0], device=device, dtype=torch.long)\n",
    "    all_scores = torch.zeros([0], device=device)\n",
    "\n",
    "    decoder_hidden = encoder_hidden[:2]\n",
    "\n",
    "    for _ in range(25):\n",
    "        decoder_out, decoder_hidden = decoder(decoder_input, decoder_hidden, encoder_out)\n",
    "\n",
    "        decoder_scores, decoder_input = torch.max(decoder_out, dim=1)\n",
    "\n",
    "        all_tokens = torch.cat((all_tokens, decoder_input), dim=0)\n",
    "        all_scores = torch.cat((all_scores, decoder_scores), dim=0)\n",
    "\n",
    "        decoder_input = torch.unsqueeze(decoder_input, 0)\n",
    "\n",
    "    return all_tokens, all_scores"
   ],
   "metadata": {
    "collapsed": false,
    "pycharm": {
     "name": "#%%\n"
    }
   }
  },
  {
   "cell_type": "code",
   "execution_count": 48,
   "outputs": [],
   "source": [
    "inp, lengths = search('кивнул и мои глаза остановились')"
   ],
   "metadata": {
    "collapsed": false,
    "pycharm": {
     "name": "#%%\n"
    }
   }
  },
  {
   "cell_type": "code",
   "execution_count": 52,
   "outputs": [
    {
     "data": {
      "text/plain": "tensor([80, 80, 80, 80, 33, 33, 33, 80, 33, 33,  4,  4,  4,  4,  4,  4,  4,  4,\n         4,  4,  4,  4,  4,  4,  4], device='cuda:0')"
     },
     "execution_count": 52,
     "metadata": {},
     "output_type": "execute_result"
    }
   ],
   "source": [
    "inp"
   ],
   "metadata": {
    "collapsed": false,
    "pycharm": {
     "name": "#%%\n"
    }
   }
  },
  {
   "cell_type": "code",
   "execution_count": 50,
   "outputs": [
    {
     "data": {
      "text/plain": "tensor([0.0425, 0.0411, 0.0449, 0.0334, 0.0386, 0.0382, 0.0372, 0.0462, 0.0422,\n        0.0414, 0.0517, 0.0515, 0.0475, 0.0438, 0.0422, 0.0359, 0.0328, 0.0324,\n        0.0299, 0.0295, 0.0283, 0.0304, 0.0320, 0.0311, 0.0318],\n       device='cuda:0', grad_fn=<CatBackward>)"
     },
     "execution_count": 50,
     "metadata": {},
     "output_type": "execute_result"
    }
   ],
   "source": [
    "lengths\n"
   ],
   "metadata": {
    "collapsed": false,
    "pycharm": {
     "name": "#%%\n"
    }
   }
  },
  {
   "cell_type": "code",
   "execution_count": 27,
   "outputs": [],
   "source": [
    "encoder_out, encoder_hidden = encoder(inp, lengths)"
   ],
   "metadata": {
    "collapsed": false,
    "pycharm": {
     "name": "#%%\n"
    }
   }
  },
  {
   "cell_type": "code",
   "execution_count": 28,
   "outputs": [
    {
     "data": {
      "text/plain": "tensor([[[-2.1320e-01,  4.3730e-01, -4.2970e-01, -3.8275e-01, -1.2079e-01,\n          -1.2245e-01,  2.1373e-02,  2.7181e-01,  1.8780e-01, -1.8463e-01,\n           4.9407e-01,  1.9684e-01, -3.4262e-02,  6.5111e-02, -3.7022e-01,\n           2.1757e-01, -2.4075e-01, -1.5265e-02, -3.9065e-01, -3.0115e-03,\n           8.3825e-02,  1.1649e-01,  3.5540e-01, -2.5361e-01, -2.5436e-01,\n          -8.3635e-02, -7.9861e-02,  4.0004e-02, -1.6635e-01,  1.2981e-02,\n           2.9770e-01, -2.9772e-01, -4.6229e-01, -1.3290e-01,  2.4256e-01,\n           2.8078e-01,  7.3464e-02, -1.2735e-01,  2.0432e-02,  1.3913e-01,\n          -2.1085e-01, -2.3671e-01,  4.6625e-02, -2.4605e-01,  9.7775e-02,\n           1.7090e-01,  1.5209e-01,  9.8287e-02, -2.8571e-01,  3.4850e-01,\n          -2.1867e-01, -3.4801e-01,  5.8992e-02, -1.3820e-01, -3.3405e-01,\n           1.0672e-02, -2.7253e-01,  4.8317e-01,  1.1852e-01,  5.9137e-02,\n           4.4468e-02, -2.0317e-01,  1.8798e-01,  2.3542e-02,  1.4300e-01,\n           1.9950e-01,  4.6827e-01,  8.4876e-02,  7.0530e-02, -7.5603e-02,\n          -2.8610e-01, -3.9167e-01, -2.7116e-01,  4.3531e-01, -5.7583e-02,\n           2.6352e-02,  1.0644e-01,  4.6729e-01, -3.9789e-02,  5.7442e-02,\n          -9.3147e-02, -3.4826e-01,  2.5699e-02, -5.6857e-04,  3.5821e-01,\n           3.2293e-02,  1.3212e-02, -1.5653e-01,  1.6768e-02,  6.9565e-02,\n           1.1221e-02,  1.5055e-01,  1.6497e-01,  3.2796e-02, -4.9063e-02,\n           9.5722e-02,  5.9817e-02,  2.5167e-02, -1.0423e-01, -3.6260e-01,\n          -1.0028e-01, -3.1430e-01, -2.3317e-01,  1.4823e-01, -2.1269e-01,\n           2.2611e-01,  3.6531e-01,  1.8310e-01, -5.7372e-01, -1.0264e-01,\n           1.8676e-01,  1.0117e-01,  1.5899e-01, -4.3535e-01,  1.2492e-01,\n          -1.5453e-01,  4.7105e-02, -3.8343e-02, -4.7431e-02,  1.6097e-01,\n          -1.0310e-01,  1.2764e-01,  2.8108e-01, -9.4848e-02, -6.7502e-03,\n          -1.5500e-01,  6.7825e-02, -6.8496e-02]],\n\n        [[ 5.3916e-02,  2.9697e-01, -1.6179e-01, -7.9961e-02,  3.7483e-01,\n          -1.2696e-01, -9.0016e-02,  9.8643e-02,  8.7002e-02, -2.6541e-01,\n           4.9247e-01, -1.0588e-01, -2.3965e-01, -2.1182e-01,  6.0396e-02,\n           3.5492e-01, -3.5594e-02, -1.9280e-01, -3.2246e-01,  9.1460e-02,\n           1.1771e-01,  1.3589e-01,  4.1784e-01,  3.4226e-01, -3.3416e-02,\n          -1.2388e-01, -8.0627e-02, -1.5438e-02, -1.0508e-01,  1.6352e-01,\n           4.6170e-02, -1.5438e-01, -2.9977e-01, -4.3803e-01,  1.8954e-02,\n           2.9862e-01,  5.7502e-03, -1.1489e-01,  2.7093e-02, -2.8093e-01,\n           4.0801e-04, -1.1894e-01, -4.9147e-02, -4.7640e-01, -1.3757e-02,\n           1.5648e-01,  1.0429e-01,  2.2949e-01,  7.4635e-02,  2.7391e-01,\n           3.6677e-02, -3.0769e-01, -4.3273e-02, -1.8803e-01, -1.5612e-01,\n          -1.8736e-01, -1.0225e-01,  3.9265e-01,  8.0902e-02, -1.3076e-01,\n           2.5478e-01, -1.4714e-02,  2.9805e-01,  1.8270e-01,  7.8268e-02,\n           2.0753e-01,  5.2083e-01,  2.1888e-01,  9.9222e-02, -1.0086e-01,\n          -4.5527e-01, -3.1631e-01, -2.1472e-02,  4.6524e-01, -1.0125e-01,\n           6.0934e-02,  1.1026e-01,  4.2789e-01,  1.8287e-01,  2.7509e-02,\n          -2.1863e-02, -9.1544e-02, -2.4104e-01, -1.3749e-01,  3.8040e-01,\n           2.4530e-01,  2.5041e-01, -1.8625e-01,  1.2796e-01,  1.4313e-02,\n           9.6624e-02,  1.3685e-01,  2.2015e-01,  4.2527e-01,  1.1985e-02,\n           2.4718e-01,  1.7573e-01,  1.7555e-01, -3.7949e-02, -3.0303e-01,\n          -1.5471e-01, -3.1319e-01, -2.8087e-01,  3.1806e-01, -6.6885e-01,\n           3.9181e-01,  5.2356e-01,  4.4405e-01, -4.8672e-01, -6.2484e-02,\n           2.2078e-01,  1.7233e-01, -1.3295e-01, -1.2187e-01, -6.8650e-02,\n          -2.4179e-01,  1.3155e-02, -1.3552e-02,  2.4218e-01,  3.3402e-01,\n           4.8289e-02, -5.9750e-02,  3.1525e-01, -2.3367e-03,  2.4509e-01,\n          -1.3317e-01,  5.7202e-02, -4.5014e-01]],\n\n        [[-8.3417e-04,  1.6501e-01, -1.6514e-01,  1.2936e-02,  3.2833e-01,\n           8.4928e-02, -2.1283e-01,  3.2430e-02, -2.2830e-01,  1.8549e-01,\n           4.5414e-01,  9.8082e-02, -4.7669e-01, -4.1213e-01, -1.1277e-01,\n           4.7403e-01, -7.9633e-02, -8.2203e-02, -7.6846e-01,  2.0733e-01,\n          -1.8063e-01,  3.8275e-01,  2.5822e-01,  5.3778e-01, -1.6929e-01,\n          -1.6422e-01, -4.4548e-01, -9.8872e-02, -8.7478e-02,  3.4014e-01,\n          -2.5135e-01,  3.2022e-01, -1.7734e-01, -1.7625e-01, -1.5906e-01,\n           2.8629e-01, -1.7554e-01, -2.0808e-01, -1.8506e-01, -2.2187e-01,\n           2.8967e-01,  7.6292e-02, -9.7013e-02, -3.4068e-01, -2.2178e-01,\n           9.8725e-02, -9.7575e-02,  4.6693e-02,  7.2126e-02,  4.0363e-01,\n           1.2419e-01, -2.0199e-01, -4.6580e-02, -1.9818e-01, -3.6248e-01,\n           5.3219e-02,  1.2956e-01,  2.6111e-01, -1.0519e-01, -3.6691e-02,\n           6.0123e-01, -3.6701e-01,  6.8072e-02,  2.7868e-01,  1.6638e-01,\n           2.7997e-01,  7.9547e-02,  8.9202e-02, -8.8461e-02, -2.7577e-01,\n          -5.9180e-01, -4.1591e-01,  1.8667e-01,  3.8146e-01,  1.3857e-01,\n          -2.8016e-03,  3.0904e-01,  4.5849e-01,  1.5072e-01, -2.7320e-02,\n           2.1567e-01, -4.2398e-02, -1.6978e-01, -8.0524e-02,  5.5186e-01,\n          -9.0301e-02,  8.0218e-02, -1.1901e-02,  4.4969e-01, -7.1208e-02,\n           9.6296e-02,  3.0031e-01,  8.5016e-02,  2.0940e-01,  2.0763e-01,\n           5.6096e-01,  4.0262e-01,  9.9535e-02,  2.2794e-01, -7.0987e-02,\n          -1.6303e-01, -4.2068e-02, -3.1145e-01,  3.1050e-01, -4.3811e-01,\n          -1.4581e-01,  3.0236e-01,  2.4671e-01, -3.0834e-01,  1.9814e-01,\n           2.5639e-01,  7.4028e-02, -2.5478e-01,  1.9823e-01,  1.1185e-01,\n           3.9583e-02, -5.6525e-02, -1.2559e-01,  2.2692e-01, -2.1288e-01,\n          -3.3037e-01,  2.2914e-02,  2.0940e-01, -6.5404e-02,  1.2817e-01,\n           4.2943e-02, -7.2093e-02, -1.4039e-01]],\n\n        [[ 2.2136e-01,  3.0145e-01, -1.5240e-01, -4.6834e-02,  3.2944e-02,\n          -1.1653e-02, -6.8915e-02, -3.2165e-01,  1.1585e-01,  2.0497e-01,\n           1.2976e-01, -1.8406e-01, -3.0351e-01, -4.5856e-01,  2.1236e-01,\n          -2.1907e-01, -3.1594e-01,  2.1767e-01, -5.5585e-01,  1.9567e-01,\n          -4.7142e-01,  2.0832e-02,  1.3071e-01,  5.2385e-01, -1.8741e-01,\n          -6.1800e-03, -5.8319e-01,  8.1329e-02,  5.6878e-02, -7.5412e-02,\n          -6.9376e-03, -2.5192e-02,  1.5870e-01, -2.8045e-01, -5.3263e-01,\n           3.8228e-01,  4.5862e-02, -1.0295e-01, -1.3182e-01, -1.1063e-01,\n           5.4251e-01, -9.7966e-02,  1.7992e-02, -2.9774e-01, -2.5063e-01,\n          -2.4971e-02, -3.3644e-01,  8.7146e-02,  2.3373e-01,  2.0337e-01,\n           7.7998e-03, -2.9642e-01, -1.7054e-02, -2.1308e-01, -5.5471e-02,\n           7.1683e-02,  5.0976e-01,  1.8385e-02,  1.0005e-01, -1.1522e-01,\n           3.4513e-01, -1.8925e-01, -1.7922e-01,  2.2788e-01, -1.9407e-01,\n           6.1720e-02, -2.0465e-01,  5.1619e-02, -1.5449e-01, -2.9970e-01,\n          -1.2790e-01, -4.3763e-01, -3.3807e-02,  2.4701e-01,  1.6278e-01,\n           1.1611e-01,  1.4166e-01, -4.2506e-02,  1.9384e-01, -6.2827e-02,\n          -1.0181e-01, -1.7693e-01,  2.4853e-01,  7.3709e-02,  3.9443e-01,\n          -2.2014e-01,  1.9736e-02,  1.1409e-01,  4.5152e-01, -6.5167e-02,\n           2.1126e-01,  3.2332e-01, -2.0489e-01,  8.7188e-02,  9.9728e-02,\n           4.7475e-01,  3.3922e-01,  1.4873e-01,  4.5040e-01,  1.0374e-01,\n          -1.5108e-01, -2.6201e-01, -4.0456e-01,  1.7053e-01, -9.5074e-02,\n          -2.5569e-01,  2.9940e-01, -1.4793e-01, -1.8288e-01,  1.2227e-01,\n           1.1711e-01,  2.4655e-02,  1.0399e-01, -1.1622e-02, -2.5328e-01,\n          -2.8069e-01,  5.7836e-03, -3.1714e-01,  4.0553e-01, -1.9094e-01,\n          -1.7833e-01,  8.3618e-02,  2.9356e-01, -1.1704e-01, -7.1440e-03,\n           2.0356e-01,  1.6048e-02, -3.0747e-01]],\n\n        [[ 3.4288e-01,  4.1329e-01, -7.8058e-02, -3.2301e-01,  2.9036e-02,\n           3.0393e-02,  3.6088e-02, -2.9548e-01, -1.5239e-01,  1.4836e-02,\n          -1.3358e-01, -1.5831e-01, -4.4494e-01, -3.0963e-01,  3.0756e-02,\n          -1.6644e-01, -3.2860e-01,  9.4311e-02, -4.6360e-01, -2.8358e-02,\n          -5.6955e-01, -1.9830e-01,  1.0848e-01,  6.6769e-01,  3.1393e-02,\n          -2.0661e-01, -3.1617e-01,  3.3540e-01, -2.2642e-01, -4.5382e-01,\n          -4.2269e-02, -1.1967e-01, -5.3886e-02, -3.4372e-01, -9.3656e-02,\n           1.7189e-01,  5.8070e-01,  6.3153e-02,  2.1582e-01,  2.0792e-01,\n           2.8641e-01, -5.6497e-02,  5.9128e-02,  2.8156e-02, -5.0583e-02,\n           1.6603e-02, -4.2732e-01,  1.6454e-01, -1.9156e-01, -2.6804e-01,\n          -3.1488e-01, -3.0983e-01,  1.6527e-01, -1.8997e-01,  2.9464e-01,\n           1.7299e-01,  3.7234e-01, -9.0732e-02,  2.3418e-01,  4.6180e-02,\n           1.9364e-01, -1.1063e-01, -3.0868e-01,  1.7611e-01, -4.0719e-01,\n          -1.2260e-01, -2.1016e-02,  5.6780e-02, -1.1508e-01, -1.5654e-01,\n          -1.4063e-02, -2.9630e-02,  3.2732e-02,  2.0601e-01, -6.8129e-02,\n           2.4450e-01,  2.9869e-01,  1.9997e-01, -3.2590e-02, -8.6297e-02,\n           8.8554e-03, -2.0750e-01,  3.3630e-01, -6.1423e-02,  2.1955e-01,\n          -8.7510e-02, -2.5873e-01,  1.8573e-01,  4.6774e-01, -3.5485e-01,\n           1.0446e-01,  1.8504e-01, -1.8533e-01, -1.0079e-01,  9.5131e-02,\n           4.7461e-01,  1.6949e-01, -2.2951e-02,  2.0329e-01, -1.1561e-02,\n          -4.4453e-02,  3.7235e-02, -4.2036e-01,  2.2156e-01, -9.4288e-02,\n          -1.5877e-01,  4.5602e-01, -3.8127e-01, -1.9701e-01,  1.8193e-01,\n           1.6859e-01, -2.6634e-01, -7.1896e-02, -1.6257e-01,  2.4062e-02,\n           6.5463e-02,  1.4965e-01,  9.3469e-02,  3.9634e-01, -4.3427e-01,\n          -4.4586e-02,  9.6071e-03,  1.8404e-01, -3.6992e-01, -3.6100e-01,\n           4.9079e-02,  2.3565e-01,  1.8580e-01]],\n\n        [[ 1.6570e-01,  1.5469e-01,  2.4782e-01, -8.9360e-02,  6.1428e-02,\n           2.1224e-01,  2.2037e-02, -1.5668e-01, -3.7455e-01, -1.8776e-01,\n          -6.1285e-02, -3.4123e-02, -1.1725e-01,  1.1783e-01,  9.1078e-02,\n          -3.5594e-01, -2.6160e-02, -1.5831e-01, -1.1272e-01,  6.8808e-02,\n          -3.8443e-01,  1.0146e-01,  8.1349e-02,  3.9505e-01, -7.6562e-02,\n           7.8902e-02, -8.8337e-02,  3.5663e-01, -1.0644e-01, -2.3370e-01,\n          -3.7953e-02,  1.8998e-01, -8.3389e-02, -4.0618e-01,  7.9745e-02,\n          -1.0678e-01,  3.0610e-01, -3.7986e-02,  1.7058e-01, -6.5580e-03,\n           3.2998e-01, -7.5503e-02, -1.1714e-02, -9.3552e-02,  5.5572e-02,\n           1.5219e-01, -2.6275e-01,  4.6030e-02, -4.8985e-02, -8.2331e-02,\n          -1.2404e-01, -2.6185e-01, -4.8385e-02, -2.1894e-02,  1.2471e-01,\n          -9.6096e-02,  3.5319e-01, -9.4333e-02, -1.4611e-02, -5.2902e-03,\n           3.5164e-01, -7.0974e-02, -9.9657e-02,  2.9834e-02, -1.7552e-01,\n          -1.9636e-01,  2.4240e-01,  2.1642e-02, -1.6576e-02, -2.3374e-02,\n           3.7955e-02,  1.8734e-01,  4.8063e-02,  2.0526e-01, -2.1610e-03,\n           2.6568e-01, -3.1532e-02,  2.5078e-01,  9.7601e-02,  5.0915e-02,\n           1.4446e-01, -1.3386e-01,  2.3040e-01, -2.6946e-01,  2.1937e-01,\n          -3.3440e-02, -1.4013e-01,  9.8631e-03,  2.5069e-01, -1.7633e-01,\n           1.3046e-02,  1.9207e-01, -3.2267e-01, -6.6714e-02,  1.1853e-01,\n          -8.9440e-02, -1.9953e-01, -2.2624e-01, -4.9648e-02, -7.2357e-02,\n          -1.1786e-01,  1.2152e-01, -2.1694e-01,  1.5089e-01,  1.6844e-01,\n           9.4599e-02,  2.3573e-01, -3.1864e-01, -1.5071e-01,  9.6906e-02,\n           2.7095e-01, -1.9943e-01, -2.4130e-03, -1.8895e-02,  3.2446e-02,\n           1.0804e-01, -1.1655e-01,  2.1936e-01,  1.0657e-01, -2.4735e-01,\n          -1.7411e-01,  1.8174e-01,  2.6837e-01, -2.5014e-01, -1.4890e-02,\n          -4.3541e-02,  1.6498e-01,  4.9629e-02]]], device='cuda:0',\n       grad_fn=<AddBackward0>)"
     },
     "execution_count": 28,
     "metadata": {},
     "output_type": "execute_result"
    }
   ],
   "source": [
    "encoder_out"
   ],
   "metadata": {
    "collapsed": false,
    "pycharm": {
     "name": "#%%\n"
    }
   }
  },
  {
   "cell_type": "code",
   "execution_count": 29,
   "outputs": [
    {
     "data": {
      "text/plain": "tensor([[[ 0.4472, -0.4278, -0.0179,  0.1878, -0.4146, -0.0275,  0.0506,\n           0.3924,  0.0735, -0.1753, -0.2786,  0.2217, -0.2036, -0.2611,\n           0.0944, -0.4367, -0.2521, -0.0015, -0.0211, -0.3091,  0.1354,\n          -0.1406,  0.3529,  0.4567,  0.5324, -0.0658,  0.3963, -0.2500,\n          -0.6350,  0.2516,  0.3516, -0.0025,  0.4484,  0.1326,  0.3176,\n           0.2969,  0.0836, -0.0576, -0.5152, -0.1531,  0.0371,  0.3242,\n           0.1001, -0.2536, -0.3035, -0.0056,  0.6130, -0.3710,  0.0088,\n           0.2288, -0.5331,  0.1660, -0.0313,  0.2441,  0.3418, -0.3586,\n           0.2874,  0.2417,  0.1622,  0.2186, -0.3818, -0.0456, -0.0381,\n          -0.2254, -0.3671, -0.2389, -0.1530,  0.2087, -0.4251,  0.0183,\n          -0.6031, -0.0735, -0.2858, -0.0650, -0.2500, -0.1841, -0.1936,\n           0.2211, -0.2007, -0.1240, -0.0835,  0.0336, -0.0457,  0.2369,\n          -0.3466, -0.1847, -0.1899,  0.3976,  0.0536, -0.2187,  0.0436,\n          -0.1409,  0.4058, -0.4165, -0.0179,  0.2274, -0.2246,  0.1167,\n           0.1714, -0.1770,  0.3582,  0.3468,  0.3089, -0.2945,  0.1098,\n           0.1912,  0.1689,  0.0077, -0.2699,  0.1563, -0.1632,  0.5418,\n           0.0144, -0.2509, -0.1306, -0.4520,  0.1993, -0.1045,  0.0503,\n           0.3224, -0.3688, -0.0799, -0.2457,  0.1964,  0.6179,  0.3314,\n          -0.2367, -0.1040]],\n\n        [[-0.1627, -0.0262,  0.1472,  0.1519,  0.0338,  0.3048, -0.2176,\n           0.0380, -0.0645, -0.0984,  0.1417,  0.1453,  0.1909, -0.2373,\n           0.2372,  0.3460, -0.6029, -0.0530, -0.1473,  0.0584,  0.2613,\n          -0.2710, -0.0409, -0.3247,  0.4296,  0.0007,  0.2017, -0.4810,\n          -0.1297, -0.2179,  0.2918,  0.4059, -0.0294, -0.3073, -0.2844,\n          -0.3291,  0.0044, -0.1674,  0.5360,  0.3781, -0.1856, -0.5777,\n          -0.3385,  0.0700, -0.0977, -0.0174,  0.3078, -0.1882,  0.0203,\n          -0.2019,  0.2171,  0.3166, -0.3621, -0.1650,  0.3628,  0.3514,\n           0.0570, -0.2107,  0.2239,  0.1981, -0.3312,  0.3154, -0.3340,\n           0.2472, -0.4027, -0.1209, -0.0155, -0.0945,  0.0787,  0.2690,\n           0.0210,  0.0643,  0.5169, -0.0434,  0.0243,  0.3553, -0.2494,\n           0.3851, -0.3096, -0.3112,  0.0032,  0.4171,  0.3048,  0.0447,\n           0.1709, -0.0434,  0.2900, -0.0072, -0.1599,  0.3147,  0.1187,\n           0.2646,  0.1716, -0.3558,  0.1799,  0.3014, -0.4501,  0.5363,\n           0.0119,  0.0266, -0.2590,  0.3102, -0.3031, -0.3350,  0.6831,\n          -0.4139, -0.0391, -0.1826, -0.1611,  0.2792,  0.3268,  0.3347,\n           0.1176, -0.1203,  0.1932, -0.5338,  0.1961,  0.0609, -0.0111,\n          -0.2418, -0.1294,  0.0278, -0.3465,  0.0264,  0.2384, -0.1468,\n          -0.1610,  0.2020]],\n\n        [[ 0.1393,  0.0342,  0.0735, -0.1556,  0.0063, -0.0165,  0.0041,\n          -0.1862, -0.2989, -0.2394,  0.0303, -0.1471, -0.1848, -0.0596,\n           0.2273, -0.1547, -0.0425, -0.0122, -0.1730, -0.0542, -0.3505,\n           0.1511, -0.0310,  0.3581,  0.0740,  0.1572, -0.0788,  0.1233,\n          -0.1143, -0.1078,  0.2451,  0.0698, -0.2086, -0.2857, -0.1830,\n          -0.0909,  0.2708, -0.3001,  0.0436, -0.1300,  0.2684, -0.1791,\n           0.0199, -0.1025, -0.0162,  0.1214, -0.2531,  0.0131, -0.0195,\n          -0.0033, -0.0621, -0.2345, -0.0239,  0.1102, -0.1163, -0.0378,\n           0.1536, -0.1862,  0.0451, -0.0754,  0.2918,  0.0939,  0.0410,\n           0.0364, -0.0248, -0.2002,  0.2582,  0.0222,  0.0811,  0.0238,\n          -0.0760,  0.1542, -0.0658,  0.1476,  0.0636,  0.1871, -0.0806,\n           0.2423,  0.0707,  0.2699,  0.1283, -0.0200,  0.0597, -0.1615,\n           0.0635, -0.2145, -0.1661, -0.1239,  0.5224,  0.1046,  0.1053,\n           0.1885, -0.1886, -0.1321,  0.2661, -0.2291, -0.0610, -0.3091,\n          -0.1226, -0.1768, -0.0894,  0.0981, -0.0766, -0.0104,  0.1256,\n           0.2151,  0.0802, -0.1649,  0.0901,  0.1020,  0.3546, -0.2814,\n          -0.1006,  0.0103, -0.0414, -0.0194, -0.1346,  0.1973,  0.0635,\n          -0.2124, -0.2600,  0.0369,  0.3064, -0.1855,  0.1837, -0.0731,\n           0.1619,  0.0505]],\n\n        [[-0.2017,  0.4487, -0.2319, -0.4160, -0.1147, -0.0416, -0.0109,\n           0.2377,  0.0911, -0.0546,  0.3713,  0.3443,  0.1482,  0.2276,\n          -0.3366,  0.1623, -0.1755, -0.0477, -0.2428,  0.0643,  0.2314,\n           0.1355,  0.2732, -0.1102, -0.1276, -0.2140,  0.0609,  0.1520,\n           0.0239, -0.0616,  0.1380, -0.0626, -0.3374, -0.2050,  0.1966,\n          -0.0286,  0.1271,  0.0556,  0.1507,  0.2030, -0.1691, -0.3285,\n          -0.0577, -0.1972,  0.1274, -0.0588,  0.2573,  0.0342, -0.1749,\n           0.4124, -0.2454, -0.4256,  0.1669, -0.0758, -0.2009,  0.0250,\n          -0.2254,  0.3852,  0.0558,  0.1559,  0.0824, -0.2751,  0.2444,\n          -0.0168,  0.0470, -0.0635,  0.3540,  0.3629,  0.0592,  0.1131,\n          -0.0703, -0.1934, -0.2362,  0.3049, -0.1701,  0.1345,  0.1645,\n           0.2719, -0.1460, -0.1599, -0.1049, -0.3002, -0.0116, -0.1848,\n           0.2652,  0.0997,  0.1011,  0.0293, -0.1650,  0.0628, -0.0988,\n           0.2760,  0.0330, -0.0966, -0.0277,  0.0258,  0.1320,  0.2035,\n          -0.0752, -0.3059,  0.0203, -0.2919, -0.0191,  0.2773, -0.2741,\n           0.1060,  0.3243,  0.1778, -0.4620, -0.0381,  0.0604,  0.0923,\n           0.0582, -0.3840,  0.1779, -0.0120,  0.0862, -0.0801,  0.0080,\n           0.1483,  0.0381,  0.0297,  0.3010, -0.0897, -0.2615, -0.3277,\n           0.1535, -0.1469]]], device='cuda:0', grad_fn=<CudnnRnnBackward>)"
     },
     "execution_count": 29,
     "metadata": {},
     "output_type": "execute_result"
    }
   ],
   "source": [
    "encoder_hidden"
   ],
   "metadata": {
    "collapsed": false,
    "pycharm": {
     "name": "#%%\n"
    }
   }
  },
  {
   "cell_type": "code",
   "execution_count": 34,
   "outputs": [],
   "source": [
    "decoder_input = torch.ones(1, 1, device=device, dtype=torch.long)"
   ],
   "metadata": {
    "collapsed": false,
    "pycharm": {
     "name": "#%%\n"
    }
   }
  },
  {
   "cell_type": "code",
   "execution_count": 32,
   "outputs": [
    {
     "data": {
      "text/plain": "tensor([[1]], device='cuda:0')"
     },
     "execution_count": 32,
     "metadata": {},
     "output_type": "execute_result"
    }
   ],
   "source": [
    "torch.ones(1, 1, device=device, dtype=torch.long)"
   ],
   "metadata": {
    "collapsed": false,
    "pycharm": {
     "name": "#%%\n"
    }
   }
  },
  {
   "cell_type": "code",
   "execution_count": 36,
   "outputs": [],
   "source": [
    "decoder_out, decoder_hidden = decoder(decoder_input, encoder_hidden[:2], encoder_out)"
   ],
   "metadata": {
    "collapsed": false,
    "pycharm": {
     "name": "#%%\n"
    }
   }
  },
  {
   "cell_type": "code",
   "execution_count": 39,
   "outputs": [],
   "source": [
    "scor, inp = torch.max(decoder_out, dim=1)"
   ],
   "metadata": {
    "collapsed": false,
    "pycharm": {
     "name": "#%%\n"
    }
   }
  },
  {
   "cell_type": "code",
   "execution_count": 40,
   "outputs": [
    {
     "data": {
      "text/plain": "tensor([0.0470], device='cuda:0', grad_fn=<MaxBackward0>)"
     },
     "execution_count": 40,
     "metadata": {},
     "output_type": "execute_result"
    }
   ],
   "source": [
    "scor"
   ],
   "metadata": {
    "collapsed": false,
    "pycharm": {
     "name": "#%%\n"
    }
   }
  },
  {
   "cell_type": "code",
   "execution_count": 41,
   "outputs": [
    {
     "data": {
      "text/plain": "tensor([80], device='cuda:0')"
     },
     "execution_count": 41,
     "metadata": {},
     "output_type": "execute_result"
    }
   ],
   "source": [
    "inp"
   ],
   "metadata": {
    "collapsed": false,
    "pycharm": {
     "name": "#%%\n"
    }
   }
  },
  {
   "cell_type": "code",
   "execution_count": 42,
   "outputs": [
    {
     "data": {
      "text/plain": "tensor([], device='cuda:0', dtype=torch.int64)"
     },
     "execution_count": 42,
     "metadata": {},
     "output_type": "execute_result"
    }
   ],
   "source": [
    "torch.zeros([0], device=device, dtype=torch.long)"
   ],
   "metadata": {
    "collapsed": false,
    "pycharm": {
     "name": "#%%\n"
    }
   }
  },
  {
   "cell_type": "code",
   "execution_count": null,
   "outputs": [],
   "source": [
    "\n"
   ],
   "metadata": {
    "collapsed": false,
    "pycharm": {
     "name": "#%%\n"
    }
   }
  }
 ],
 "metadata": {
  "kernelspec": {
   "name": "pycharm-86459515",
   "language": "python",
   "display_name": "PyCharm (Emotion-Recognition)"
  },
  "language_info": {
   "codemirror_mode": {
    "name": "ipython",
    "version": 2
   },
   "file_extension": ".py",
   "mimetype": "text/x-python",
   "name": "python",
   "nbconvert_exporter": "python",
   "pygments_lexer": "ipython2",
   "version": "2.7.6"
  }
 },
 "nbformat": 4,
 "nbformat_minor": 0
}